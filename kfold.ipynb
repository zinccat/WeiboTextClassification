{
  "cells": [
    {
      "cell_type": "markdown",
      "source": [
        "### k折交叉验证数据生成器"
      ],
      "metadata": {}
    },
    {
      "cell_type": "markdown",
      "source": [
        "本程序用于将filePreprocessing程序预处理过的数据进行k折分划,便于后续两个模型的使用"
      ],
      "metadata": {}
    },
    {
      "cell_type": "markdown",
      "source": [
        "先导入一些库"
      ],
      "metadata": {}
    },
    {
      "cell_type": "code",
      "source": [
        "import pandas as pd #用于读写数据\n",
        "from sklearn.model_selection import KFold #用于k折分划"
      ],
      "outputs": [],
      "execution_count": 1,
      "metadata": {}
    },
    {
      "cell_type": "markdown",
      "source": [
        "读取数据, 并生成k折分划迭代器"
      ],
      "metadata": {}
    },
    {
      "cell_type": "code",
      "source": [
        "pf = pd.read_csv('./dataset/dataUTF8.csv', encoding=\"utf-8\") #读取数据文件\n",
        "kf = KFold(n_splits=10, shuffle=True)  # 10折分划,可自行更改参数"
      ],
      "outputs": [],
      "execution_count": 2,
      "metadata": {}
    },
    {
      "cell_type": "markdown",
      "source": [
        "分划并将分划后数据写入csv文件"
      ],
      "metadata": {}
    },
    {
      "cell_type": "code",
      "source": [
        "num = 1  # 索引计数\n",
        "for train_index, test_index in kf.split(pf):\n",
        "    print(train_index) #打印分划后训练集的语句索引\n",
        "    train_list = {'text': [], 'category': []} #建立空词典\n",
        "    test_list = {'text': [], 'category': []}\n",
        "    for i in train_index:  # 写入训练集\n",
        "        train_list['text'].append(pf['text'][i])\n",
        "        train_list['category'].append(pf['category'][i])\n",
        "    pTrain = pd.DataFrame(train_list, columns=[\"text\", \"category\"])\n",
        "    pTrain.to_csv('./dataset/Train'+str(num)+'UTF8.csv', mode='w',\n",
        "                  header=True, encoding='utf-8', index=False)\n",
        "    for j in test_index:  # 写入测试集\n",
        "        test_list['text'].append(pf['text'][j])\n",
        "        test_list['category'].append(pf['category'][j])\n",
        "    pTest = pd.DataFrame(test_list, columns=[\"text\", \"category\"])\n",
        "    pTest.to_csv('./dataset/Test'+str(num)+'UTF8.csv', mode='w',\n",
        "                 header=True, encoding='utf-8', index=False)\n",
        "    num += 1"
      ],
      "outputs": [],
      "execution_count": null,
      "metadata": {}
    }
  ],
  "metadata": {
    "kernelspec": {
      "display_name": "Python 3.7.6 64-bit ('pytorch': conda)",
      "language": "python",
      "name": "python37664bitpytorchcondaf7d82aec40484e15b0f1651e739ca307"
    },
    "language_info": {
      "codemirror_mode": {
        "name": "ipython",
        "version": 3
      },
      "file_extension": ".py",
      "mimetype": "text/x-python",
      "name": "python",
      "nbconvert_exporter": "python",
      "pygments_lexer": "ipython3",
      "version": "3.7.6"
    },
    "nteract": {
      "version": "0.22.0"
    }
  },
  "nbformat": 4,
  "nbformat_minor": 4
}