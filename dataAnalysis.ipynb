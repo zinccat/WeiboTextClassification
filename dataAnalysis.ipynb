{
  "cells": [
    {
      "cell_type": "markdown",
      "source": [
        "### 数据分析程序"
      ],
      "metadata": {}
    },
    {
      "cell_type": "markdown",
      "source": [
        "导入所用的库"
      ],
      "metadata": {}
    },
    {
      "cell_type": "code",
      "source": [
        "import matplotlib.pyplot as plt #用于绘图\n",
        "import pandas as pd #用于数据处理"
      ],
      "outputs": [],
      "execution_count": 1,
      "metadata": {}
    },
    {
      "cell_type": "markdown",
      "source": [
        "绘制语句长度与该长度以下语句占比的图像"
      ],
      "metadata": {}
    },
    {
      "cell_type": "code",
      "source": [
        "pf = pd.read_csv('./dataset/dataUTF8.csv', encoding=\"utf-8\") #读入数据集\n",
        "text = []\n",
        "for i in range(13638):\n",
        "    text.append(pf['text'][i])\n",
        "sentence_length = [len(str(x).split()) for x in text] #分词后得到语句长度\n",
        "plt.hist(sentence_length,400,density=1,cumulative=True)\n",
        "plt.xlabel(\"length\", fontsize=16, horizontalalignment=\"center\")\n",
        "plt.ylabel(\"percentage\", fontsize=16, horizontalalignment=\"center\")\n",
        "plt.xlim(0,60)\n",
        "plt.show()"
      ],
      "outputs": [
        {
          "output_type": "display_data",
          "data": {
            "image/png": "[encoded data removed]",
            "text/plain": [
              "<Figure size 432x288 with 1 Axes>"
            ]
          },
          "metadata": {
            "needs_background": "light"
          }
        }
      ],
      "execution_count": 2,
      "metadata": {}
    },
    {
      "cell_type": "markdown",
      "source": [
        "可以看出将长度补足到50可以基本保证原有语句的特征"
      ],
      "metadata": {}
    }
  ],
  "metadata": {
    "kernelspec": {
      "display_name": "Python 3.7.6 64-bit ('pytorch': conda)",
      "language": "python",
      "name": "python37664bitpytorchcondaf7d82aec40484e15b0f1651e739ca307"
    },
    "language_info": {
      "codemirror_mode": {
        "name": "ipython",
        "version": 3
      },
      "file_extension": ".py",
      "mimetype": "text/x-python",
      "name": "python",
      "nbconvert_exporter": "python",
      "pygments_lexer": "ipython3",
      "version": "3.7.6"
    },
    "nteract": {
      "version": "0.22.0"
    }
  },
  "nbformat": 4,
  "nbformat_minor": 4
}