{
  "cells": [
    {
      "cell_type": "markdown",
      "source": [
        "### 原始数据处理程序"
      ],
      "metadata": {}
    },
    {
      "cell_type": "markdown",
      "source": [
        "本程序用于将原始txt格式数据以utf-8编码写入到csv文件中, 以便后续操作\n",
        "\n",
        "请在使用前确认原始数据所在文件夹内无无关文件,并修改各分类文件夹名至1-9\n",
        "\n",
        "一个可行的对应关系如下所示:\n",
        "\n",
        "财经 1 economy\n",
        "房产 2 realestate\n",
        "健康 3 health\n",
        "教育 4 education\n",
        "军事 5 military\n",
        "科技 6 technology\n",
        "体育 7 sports\n",
        "娱乐 8 entertainment\n",
        "证券 9 stock"
      ],
      "metadata": {}
    },
    {
      "cell_type": "markdown",
      "source": [
        "先导入一些库"
      ],
      "metadata": {}
    },
    {
      "cell_type": "code",
      "source": [
        "import os #用于文件操作\n",
        "import pandas as pd #用于读写数据"
      ],
      "outputs": [],
      "execution_count": 1,
      "metadata": {}
    },
    {
      "cell_type": "markdown",
      "source": [
        "数据处理所用函数,读取文件夹名作为数据的类别,将数据以文本(text),类别(category)的形式输出至csv文件中\n",
        "\n",
        "传入参数: corpus_path: 原始语料库根目录 out_path: 处理后文件输出目录"
      ],
      "metadata": {}
    },
    {
      "cell_type": "code",
      "source": [
        "def processing(corpus_path, out_path):\n",
        "    if not os.path.exists(out_path): #检测输出目录是否存在,若不存在则创建目录\n",
        "        os.makedirs(out_path)\n",
        "    clist = os.listdir(corpus_path) #列出原始数据根目录下的文件夹\n",
        "    for classid in clist: #对每个文件夹分别处理\n",
        "        dict = {'text': [], 'category': []}\n",
        "        class_path = corpus_path+classid+\"/\"\n",
        "        filelist = os.listdir(class_path)\n",
        "        for fileN in filelist: #处理单个文件\n",
        "            file_path = class_path + fileN\n",
        "            with open(file_path, encoding='utf-8', errors='ignore') as f:\n",
        "                content = f.read()\n",
        "            dict['text'].append(content) #将文本内容加入字典\n",
        "            dict['category'].append(classid) #将类别加入字典\n",
        "        pf = pd.DataFrame(dict, columns=[\"text\", \"category\"])\n",
        "        if classid == '1': #第一类数据输出时创建新文件并添加header\n",
        "            pf.to_csv(out_path+'dataUTF8.csv', mode='w',\n",
        "                  header=True, encoding='utf-8', index=False)\n",
        "        else: #将剩余类别的数据写入到已生成的文件中\n",
        "            pf.to_csv(out_path+'dataUTF8.csv', mode='a',\n",
        "                  header=False, encoding='utf-8', index=False)"
      ],
      "outputs": [],
      "execution_count": null,
      "metadata": {}
    },
    {
      "cell_type": "markdown",
      "source": [
        "处理文件"
      ],
      "metadata": {}
    },
    {
      "cell_type": "code",
      "source": [
        "processing(\"./data/\", \"./dataset/\")"
      ],
      "outputs": [],
      "execution_count": null,
      "metadata": {}
    }
  ],
  "metadata": {
    "kernelspec": {
      "display_name": "Python 3.7.6 64-bit ('pytorch': conda)",
      "language": "python",
      "name": "python37664bitpytorchcondaf7d82aec40484e15b0f1651e739ca307"
    },
    "language_info": {
      "name": "python",
      "version": "3.7.6",
      "mimetype": "text/x-python",
      "codemirror_mode": {
        "name": "ipython",
        "version": 3
      },
      "pygments_lexer": "ipython3",
      "nbconvert_exporter": "python",
      "file_extension": ".py"
    },
    "nteract": {
      "version": "0.22.0"
    }
  },
  "nbformat": 4,
  "nbformat_minor": 4
}