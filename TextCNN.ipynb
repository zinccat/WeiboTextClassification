{
  "cells": [
    {
      "cell_type": "markdown",
      "source": [
        "### TextCNN文本分类器"
      ],
      "metadata": {}
    },
    {
      "cell_type": "markdown",
      "source": [
        "本程序使用pytorch构建并训练了可用于文本分类的TextCNN模型,请确认dataset目录中已存在kfold程序生成的csv文件,且已下载预训练词向量\n",
        "\n",
        "附录中展示了测试过程中曾使用过的LSTM模型与较为朴素的TextCNN模型的代码"
      ],
      "metadata": {}
    },
    {
      "cell_type": "markdown",
      "source": [
        "导入用到的库"
      ],
      "metadata": {}
    },
    {
      "cell_type": "code",
      "source": [
        "import pandas as pd #用于数据处理\n",
        "import numpy as np #用于矩阵计算\n",
        "import torch #用于搭建及训练模型\n",
        "import time #用于训练计时\n",
        "import random #用于生成随机数\n",
        "import os #用于文件操作\n",
        "from torchtext import data #用于生成数据集\n",
        "from torchtext.vocab import Vectors #用于载入预训练词向量\n",
        "from tqdm import tqdm #用于绘制进度条\n",
        "from torchtext.data import Iterator, BucketIterator #用于生成训练和测试所用的迭代器\n",
        "import torch.nn as nn #用于搭建模型\n",
        "import torch.optim as optim #用于生成优化函数\n",
        "from matplotlib import pyplot as plt #用于绘制误差函数\n",
        "\n",
        "torch.manual_seed(19260817) #设定随机数种子\n",
        "torch.backends.cudnn.deterministic = True #保证可复现性\n",
        "\n",
        "def tokenize(x): return x.split() #分词函数,后续操作中会用到"
      ],
      "outputs": [],
      "execution_count": 1,
      "metadata": {
        "colab": {},
        "colab_type": "code",
        "id": "XyDed7LMvIln"
      }
    },
    {
      "cell_type": "markdown",
      "source": [
        "设定所用的训练&测试数据"
      ],
      "metadata": {
        "colab_type": "text",
        "id": "TXG-bVYzNbBC"
      }
    },
    {
      "cell_type": "markdown",
      "source": [
        "定义MyDataset类并生成训练和测试所用数据集"
      ],
      "metadata": {
        "colab_type": "text",
        "id": "mKbJsUA5Nh_M"
      }
    },
    {
      "cell_type": "code",
      "source": [
        "TEXT = data.Field(sequential=True, tokenize=tokenize, fix_length=50) #设定句长为50\n",
        "LABEL = data.Field(sequential=False, use_vocab=False)\n",
        "\n",
        "# 定义Dataset类\n",
        "class Dataset(data.Dataset):\n",
        "    name = 'Dataset'\n",
        "    def __init__(self, path, text_field, label_field):\n",
        "        fields = [(\"text\", text_field), (\"category\", label_field)]\n",
        "        examples = []\n",
        "        csv_data = pd.read_csv(path) #从csv文件中读取数据\n",
        "        print('read data from {}'.format(path))\n",
        "        for text, label in tqdm(zip(csv_data['text'], csv_data['category'])):\n",
        "            examples.append(data.Example.fromlist([str(text), label], fields))\n",
        "        super(Dataset, self).__init__(examples, fields) #生成标准dataset"
      ],
      "outputs": [],
      "execution_count": 2,
      "metadata": {
        "colab": {
          "base_uri": "https://localhost:8080/",
          "height": 185
        },
        "colab_type": "code",
        "id": "5CxfzmptvIl6",
        "outputId": "f2a64da9-0c68-4d93-edea-ccd988912e6e"
      }
    },
    {
      "cell_type": "markdown",
      "source": [
        "载入训练和测试所用的数据集"
      ],
      "metadata": {}
    },
    {
      "cell_type": "code",
      "source": [
        "dataset_id = 2 #选择所使用的dataset组合\n",
        "train_path = 'dataset/Train'+str(dataset_id)+'UTF8.csv' #训练数据文件路径\n",
        "test_path = 'dataset/Test'+str(dataset_id)+'UTF8.csv' #测试数据文件路径\n",
        "train = Dataset(train_path, text_field=TEXT, label_field=LABEL) #生成训练集\n",
        "test = Dataset(test_path, text_field=TEXT, label_field=LABEL) #生成测试集"
      ],
      "outputs": [
        {
          "output_type": "stream",
          "name": "stderr",
          "text": [
            "0it [00:00, ?it/s]"
          ]
        },
        {
          "output_type": "stream",
          "name": "stdout",
          "text": [
            "read data from dataset/Train2UTF8.csv\n"
          ]
        },
        {
          "output_type": "stream",
          "name": "stderr",
          "text": [
            "12274it [00:00, 77603.33it/s]\n",
            "1364it [00:00, 56758.51it/s]"
          ]
        },
        {
          "output_type": "stream",
          "name": "stdout",
          "text": [
            "read data from dataset/Test2UTF8.csv\n"
          ]
        },
        {
          "output_type": "stream",
          "name": "stderr",
          "text": [
            "\n"
          ]
        }
      ],
      "execution_count": 3,
      "metadata": {
        "colab": {},
        "colab_type": "code",
        "id": "lw7lTkIbvIl0"
      }
    },
    {
      "cell_type": "markdown",
      "source": [
        "使用预训练词向量构建映射关系及权重矩阵"
      ],
      "metadata": {
        "colab_type": "text",
        "id": "sbcTzoufOiQj"
      }
    },
    {
      "cell_type": "code",
      "source": [
        "if not os.path.exists('.vector_cache'): #建立缓存文件夹以存储缓存文件\n",
        "    os.mkdir('.vector_cache')\n",
        "vectors = Vectors(name='weibo') #使用微博数据集所训练好的词向量\n",
        "TEXT.build_vocab(train, vectors=vectors, unk_init = torch.Tensor.normal_, min_freq=5) #构建映射,设定最低词频为5\n",
        "weight_matrix = TEXT.vocab.vectors #构建权重矩阵"
      ],
      "outputs": [],
      "execution_count": 4,
      "metadata": {
        "colab": {},
        "colab_type": "code",
        "id": "7PrxcCdAOhTv"
      }
    },
    {
      "cell_type": "markdown",
      "source": [
        "定义搭建模型使用的TextCNN类"
      ],
      "metadata": {}
    },
    {
      "cell_type": "code",
      "source": [
        "class TextCNN(nn.Module):\n",
        "    def __init__(self, window_sizes, vocab_size = len(TEXT.vocab), pad_idx = TEXT.vocab.stoi[TEXT.pad_token], embedding_dim=300, text_len=50, output_dim=9, feature_size=100):\n",
        "        super().__init__() #调用nn.Module的构造函数进行初始化\n",
        "        self.embedding = nn.Embedding(vocab_size, embedding_dim, padding_idx=pad_idx) #使用embedding table构建语句到向量的映射\n",
        "        self.embedding.weight.data.copy_(weight_matrix) #载入由预训练词向量生成的权重矩阵\n",
        "        self.convs = nn.ModuleList([ #定义所使用的卷积操作\n",
        "                nn.Sequential(nn.Conv1d(in_channels=embedding_dim, out_channels=feature_size, kernel_size=h,), #1维卷积\n",
        "                              nn.BatchNorm1d(num_features=feature_size),  #正则化\n",
        "                              nn.ReLU(), #ReLU\n",
        "                              nn.MaxPool1d(kernel_size=text_len-h+1)) #Max Pooling\n",
        "                              for h in window_sizes])\n",
        "        self.fc = nn.Linear(in_features=feature_size*len(window_sizes),out_features=9) #全连接层\n",
        "        self.dropout = nn.Dropout(0.4) #dropout\n",
        "        \n",
        "    def forward(self, text): #前向传播\n",
        "        embedded = self.embedding(text)\n",
        "        embedded = embedded.permute(1, 2, 0) #[]\n",
        "        out = [conv(embedded) for conv in self.convs]\n",
        "        out = torch.cat(out, dim=1) #纵向拼接卷积操作输出的矩阵\n",
        "        out = out.view(-1, out.size(1)) #将矩阵拉直为向量\n",
        "        #out = self.dropout(out)\n",
        "        y = self.fc(out) #通过全连接层处理获得预测类别\n",
        "        return y #返回预测值"
      ],
      "outputs": [],
      "execution_count": 5,
      "metadata": {
        "colab": {},
        "colab_type": "code",
        "id": "SSrqbcQeIZ_M"
      }
    },
    {
      "cell_type": "markdown",
      "source": [
        "设定batch size并生成训练与测试所用的迭代器"
      ],
      "metadata": {
        "colab_type": "text",
        "id": "pyUkYSqhOLhZ"
      }
    },
    {
      "cell_type": "code",
      "source": [
        "batch_size = 256\n",
        "train_iter = BucketIterator(dataset=train, batch_size=batch_size, shuffle=True)\n",
        "test_iter = Iterator(dataset=test, batch_size=batch_size, shuffle=True)"
      ],
      "outputs": [],
      "execution_count": 6,
      "metadata": {
        "colab": {},
        "colab_type": "code",
        "id": "TRrijFJCvImH"
      }
    },
    {
      "cell_type": "markdown",
      "source": [
        "模型训练函数\n",
        "\n",
        "传入参数: 训练轮数"
      ],
      "metadata": {
        "colab": {},
        "colab_type": "code",
        "id": "qw-L9oTjOcsf"
      }
    },
    {
      "cell_type": "code",
      "source": [
        "def fit(num_epoch=60):\n",
        "    torch.cuda.empty_cache() #清空gpu缓存\n",
        "    start = time.time() #记录训练开始时间\n",
        "    losses = [] #用于记录训练过程中loss\n",
        "    acc = [] #用于记录训练过程中准确率\n",
        "    for epoch in tqdm(range(1, num_epoch+1)):\n",
        "        for batch in train_iter: #轮流读取batch中元素进行训练\n",
        "            model.train() #将模型设为训练模式\n",
        "            model.zero_grad() #将上次计算得到的梯度值清零\n",
        "            optimizer.zero_grad()\n",
        "            predicted = model(batch.text.cuda()) #进行预测\n",
        "            loss = loss_function(predicted, batch.category.cuda()-1) #计算loss\n",
        "            loss.backward() #反向传播\n",
        "            optimizer.step() #修正模型\n",
        "        '''\n",
        "        if epoch%1==0: #每过一段时间进行一次预测\n",
        "            print('Epoch %d, Loss: %f' % (epoch, loss.item()))\n",
        "            model.eval() #将模型设为评估模式\n",
        "            with torch.no_grad():\n",
        "                acc.append(validation()) #对测试集进行预测评估模型效果\n",
        "        '''\n",
        "        losses.append(loss.item())\n",
        "    plt.plot(losses) #绘制训练过程中loss与训练次数的图像'''\n",
        "    end = time.time() #记录训练结束时间\n",
        "    print('Time used: %ds' %(end-start)) #打印训练所用时间"
      ],
      "outputs": [],
      "execution_count": 7,
      "metadata": {
        "colab": {},
        "colab_type": "code",
        "id": "1G9xzQhvOF_O"
      }
    },
    {
      "cell_type": "markdown",
      "source": [
        "验证函数\n",
        "\n",
        "通过对测试集中样本进行预测获得模型分类的准确率"
      ],
      "metadata": {}
    },
    {
      "cell_type": "code",
      "source": [
        "def validation():\n",
        "    ans = 0 #用于记录训练集总样本数\n",
        "    correct = 0 #用于记录预测正确的样本数目\n",
        "    for batch in test_iter: #获得测试集准确率\n",
        "        predicted = model(batch.text.cuda()) #对batch内元素进行预测\n",
        "        label = batch.category.cuda()-1 #-1以使标签中的1-9变为0-8和预测类别相符\n",
        "        max_preds = predicted.argmax(dim = 1, keepdim = True) #取最大值下标获得所预测类别\n",
        "        correct += int(max_preds.squeeze(1).eq(label).sum()) #计算预测类别与正确类别相等的数目\n",
        "        ans += label.shape[0] \n",
        "    accuracy = correct/ans #计算准确率\n",
        "    print('Accuracy on testset: %.3f' %(accuracy))\n",
        "    torch.cuda.empty_cache() #清空gpu缓存\n",
        "    return accuracy #返回准确率"
      ],
      "outputs": [],
      "execution_count": 8,
      "metadata": {
        "colab": {},
        "colab_type": "code",
        "id": "eYPnex56OH-J"
      }
    },
    {
      "cell_type": "markdown",
      "source": [
        "定义训练所需的模型,损失函数与优化器"
      ],
      "metadata": {}
    },
    {
      "cell_type": "code",
      "source": [
        "model = TextCNN(window_sizes=[3,4,5,6]) #定义TextCNN模型\n",
        "loss_function = nn.functional.cross_entropy #使用交叉熵损失函数\n",
        "optimizer = optim.Adam(filter(lambda p: p.requires_grad, model.parameters()), lr=0.001) #使用Adam作为优化器\n",
        "model.cuda() #将模型移至gpu"
      ],
      "outputs": [
        {
          "output_type": "execute_result",
          "execution_count": 9,
          "data": {
            "text/plain": [
              "TextCNN(\n",
              "  (embedding): Embedding(13491, 300, padding_idx=1)\n",
              "  (convs): ModuleList(\n",
              "    (0): Sequential(\n",
              "      (0): Conv1d(300, 100, kernel_size=(3,), stride=(1,))\n",
              "      (1): BatchNorm1d(100, eps=1e-05, momentum=0.1, affine=True, track_running_stats=True)\n",
              "      (2): ReLU()\n",
              "      (3): MaxPool1d(kernel_size=48, stride=48, padding=0, dilation=1, ceil_mode=False)\n",
              "    )\n",
              "    (1): Sequential(\n",
              "      (0): Conv1d(300, 100, kernel_size=(4,), stride=(1,))\n",
              "      (1): BatchNorm1d(100, eps=1e-05, momentum=0.1, affine=True, track_running_stats=True)\n",
              "      (2): ReLU()\n",
              "      (3): MaxPool1d(kernel_size=47, stride=47, padding=0, dilation=1, ceil_mode=False)\n",
              "    )\n",
              "    (2): Sequential(\n",
              "      (0): Conv1d(300, 100, kernel_size=(5,), stride=(1,))\n",
              "      (1): BatchNorm1d(100, eps=1e-05, momentum=0.1, affine=True, track_running_stats=True)\n",
              "      (2): ReLU()\n",
              "      (3): MaxPool1d(kernel_size=46, stride=46, padding=0, dilation=1, ceil_mode=False)\n",
              "    )\n",
              "    (3): Sequential(\n",
              "      (0): Conv1d(300, 100, kernel_size=(6,), stride=(1,))\n",
              "      (1): BatchNorm1d(100, eps=1e-05, momentum=0.1, affine=True, track_running_stats=True)\n",
              "      (2): ReLU()\n",
              "      (3): MaxPool1d(kernel_size=45, stride=45, padding=0, dilation=1, ceil_mode=False)\n",
              "    )\n",
              "  )\n",
              "  (fc): Linear(in_features=400, out_features=9, bias=True)\n",
              "  (dropout): Dropout(p=0.4, inplace=False)\n",
              ")"
            ]
          },
          "metadata": {}
        }
      ],
      "execution_count": 9,
      "metadata": {
        "colab": {
          "base_uri": "https://localhost:8080/",
          "height": 338
        },
        "colab_type": "code",
        "id": "i-7GS-1IIcU7",
        "outputId": "95e97e32-ce61-4593-c709-29fd07bc6c5e"
      }
    },
    {
      "cell_type": "markdown",
      "source": [
        "进行训练"
      ],
      "metadata": {}
    },
    {
      "cell_type": "code",
      "source": [
        "torch.cuda.empty_cache() #清除gpu缓存\n",
        "fit(15)"
      ],
      "outputs": [
        {
          "output_type": "stream",
          "name": "stderr",
          "text": [
            "100%|██████████████████████████████████████████████████████████████████████████████████| 15/15 [01:35<00:00,  6.40s/it]\n"
          ]
        },
        {
          "output_type": "stream",
          "name": "stdout",
          "text": [
            "Time used: 96s\n"
          ]
        },
        {
          "output_type": "display_data",
          "data": {
            "image/png": "[encoded data removed]",
            "text/plain": [
              "<Figure size 432x288 with 1 Axes>"
            ]
          },
          "metadata": {
            "needs_background": "light"
          }
        }
      ],
      "execution_count": 10,
      "metadata": {
        "colab": {
          "base_uri": "https://localhost:8080/",
          "height": 338
        },
        "colab_type": "code",
        "id": "kcCh97b-vImY",
        "outputId": "e8e1daee-f8ec-40bb-c8c6-76b8770f87bc"
      }
    },
    {
      "cell_type": "markdown",
      "source": [
        "在测试集上进行预测"
      ],
      "metadata": {}
    },
    {
      "cell_type": "code",
      "source": [
        "validation()"
      ],
      "outputs": [
        {
          "output_type": "stream",
          "name": "stdout",
          "text": [
            "Accuracy on testset: 0.858\n"
          ]
        },
        {
          "output_type": "execute_result",
          "execution_count": 11,
          "data": {
            "text/plain": [
              "0.8577712609970675"
            ]
          },
          "metadata": {}
        }
      ],
      "execution_count": 11,
      "metadata": {
        "colab": {
          "base_uri": "https://localhost:8080/",
          "height": 67
        },
        "colab_type": "code",
        "id": "EogsH27VvImk",
        "outputId": "7bab0ff8-e07b-4313-f9b8-8f3b6af192bb"
      }
    },
    {
      "cell_type": "markdown",
      "source": [
        "保存模型"
      ],
      "metadata": {}
    },
    {
      "cell_type": "code",
      "source": [
        "torch.save(model.state_dict(), 'models/model.pth')"
      ],
      "outputs": [],
      "execution_count": null,
      "metadata": {
        "colab": {},
        "colab_type": "code",
        "id": "w9tKHIqxvImr"
      }
    },
    {
      "cell_type": "markdown",
      "source": [
        "附录:\n",
        "\n",
        "此处展示了模型测试过程中使用过的双向LSTM模型与朴素的TextCNN模型"
      ],
      "metadata": {}
    },
    {
      "cell_type": "markdown",
      "source": [
        "朴素的TextCNN模型\n",
        "\n",
        "预测准确率 84.6%"
      ],
      "metadata": {}
    },
    {
      "cell_type": "code",
      "source": [
        "class OldTextCNN(nn.Module):\n",
        "    def __init__(self, vocab_size = len(TEXT.vocab), pad_idx = TEXT.vocab.stoi[TEXT.pad_token], embedding_dim=300, hidden_dim=50, output_dim=9):\n",
        "        super().__init__() #调用nn.Module的构造函数进行初始化\n",
        "        self.embedding = nn.Embedding(vocab_size, embedding_dim, padding_idx=pad_idx) #使用embedding table构建语句到向量的映射\n",
        "        self.embedding.weight.data.copy_(weight_matrix) #载入由预训练词向量生成的权重矩阵\n",
        "        self.fc1 = nn.Linear(embedding_dim, hidden_dim) #全连接层\n",
        "        self.relu = nn.ReLU() #ReLU\n",
        "        self.dropout = nn.Dropout(0.2) #dropout\n",
        "        self.fc2 = nn.Linear(hidden_dim, output_dim) #全连接层\n",
        "        \n",
        "    def forward(self, text): #前向传播\n",
        "        embedded = self.embedding(text)\n",
        "        embedded = embedded.permute(1, 0, 2) #将batch_size移至第一维\n",
        "        pooled = nn.functional.avg_pool2d(embedded, (embedded.shape[1], 1)).squeeze(1) #对移至第二维的textlen进行average pooling获得二维张量(batch_size*embedding_dim)      \n",
        "        droped = self.dropout(pooled)\n",
        "        fced = self.fc1(droped)\n",
        "        relued = self.relu(fced)\n",
        "        droped = self.dropout(relued)\n",
        "        y = self.fc2(droped) #通过全连接层处理获得预测类别\n",
        "        return y"
      ],
      "outputs": [],
      "execution_count": null,
      "metadata": {}
    },
    {
      "cell_type": "markdown",
      "source": [
        "双向LSTM\n",
        "\n",
        "预测准确率: 83.2%"
      ],
      "metadata": {}
    },
    {
      "cell_type": "code",
      "source": [
        "class LSTM(nn.Module):\n",
        "    def __init__(self, dropout1=0.2, dropout2=0.2, bidirectional=True, hidden_size=200, num_layers=2):\n",
        "        super(LSTM, self).__init__()\n",
        "        self.word_embeddings = nn.Embedding(len(TEXT.vocab), 300)\n",
        "        self.word_embeddings.weight.data.copy_(weight_matrix)\n",
        "        self.lstm = nn.LSTM(input_size=300, hidden_size=hidden_size, num_layers=num_layers, dropout=dropout1, bidirectional=bidirectional)\n",
        "        self.dropout = nn.Dropout(dropout2)\n",
        "        self.fc1 = nn.Linear(2*hidden_size, 50)\n",
        "        self.relu = nn.ReLU()\n",
        "        self.fc2 = nn.Linear(50,9)\n",
        "        self.sigmoid = nn.Sigmoid()\n",
        "    def forward(self, sentence):\n",
        "        embeds = self.word_embeddings(sentence)\n",
        "        _, (lstm_out, __) = self.lstm(embeds)\n",
        "        last = torch.cat((lstm_out[-2,:,:], lstm_out[-1,:,:]), dim=1)\n",
        "        fc1_in = self.dropout(last)\n",
        "        fc1_out = self.fc1(fc1_in)\n",
        "        fc2_in = self.relu(fc1_out)\n",
        "        y = self.fc2(fc2_in)\n",
        "        return y"
      ],
      "outputs": [],
      "execution_count": null,
      "metadata": {}
    }
  ],
  "metadata": {
    "accelerator": "GPU",
    "colab": {
      "collapsed_sections": [],
      "name": "Final.ipynb",
      "provenance": []
    },
    "kernelspec": {
      "display_name": "Python 3.7.6 64-bit ('pytorch': conda)",
      "language": "python",
      "name": "python37664bitpytorchcondaf7d82aec40484e15b0f1651e739ca307"
    },
    "language_info": {
      "codemirror_mode": {
        "name": "ipython",
        "version": 3
      },
      "file_extension": ".py",
      "mimetype": "text/x-python",
      "name": "python",
      "nbconvert_exporter": "python",
      "pygments_lexer": "ipython3",
      "version": "3.7.6"
    },
    "nteract": {
      "version": "0.22.0"
    }
  },
  "nbformat": 4,
  "nbformat_minor": 4
}
